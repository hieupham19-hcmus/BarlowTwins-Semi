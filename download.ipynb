{
 "cells": [
  {
   "cell_type": "code",
   "execution_count": null,
   "metadata": {
    "metadata": {}
   },
   "outputs": [],
   "source": [
    "%cd /mnt/d/RESEARCH/BarlowTwins-Semi\n",
    "%mkdir download\n",
    "%mkdir data\n",
    "%mkdir processed_data\n",
    "%mkdir processed_data/polypgen\n"
   ]
  },
  {
   "cell_type": "code",
   "execution_count": null,
   "metadata": {
    "metadata": {}
   },
   "outputs": [],
   "source": [
    "%mkdir download/polypgen\n",
    "%cd download/polypgen\n",
    "\n",
    "#!gdown 1DV-q3g35CiHHG16k13QmvuHdaDQ6dkqh\n",
    "!unzip -q PolypGen2021_MultiCenterData_v3.zip"
   ]
  },
  {
   "cell_type": "code",
   "execution_count": null,
   "metadata": {
    "metadata": {}
   },
   "outputs": [],
   "source": [
    "import os\n",
    "import shutil\n",
    "\n",
    "%cd /mnt/d/RESEARCH/BarlowTwins-Semi/download/polypgen\n",
    "root_dir = os.getcwd() + '/PolypGen2021_MultiCenterData_v3'\n",
    "print(root_dir)\n",
    "\n",
    "# Define the common directories for images and masks\n",
    "images_common_dir = os.path.join(root_dir, \"images\")\n",
    "masks_common_dir = os.path.join(root_dir, \"masks\")\n",
    "\n",
    "# Create the common directories if they don't exist\n",
    "os.makedirs(images_common_dir, exist_ok=True)\n",
    "os.makedirs(masks_common_dir, exist_ok=True)\n",
    "\n",
    "# Define image file extensions to filter\n",
    "image_extensions = ('.jpg', '.jpeg', '.png', '.bmp', '.tiff')\n",
    "\n",
    "# Traverse the subdirectories within the root directory\n",
    "for subdir, dirs, files in os.walk(root_dir):\n",
    "    if 'images_' in subdir or 'masks_' in subdir:\n",
    "        for file in files:\n",
    "            file_path = os.path.join(subdir, file)\n",
    "            if file.lower().endswith(image_extensions):\n",
    "                if 'images_' in subdir:\n",
    "                    shutil.move(file_path, images_common_dir)\n",
    "                elif 'masks_' in subdir:\n",
    "                    shutil.move(file_path, masks_common_dir)\n",
    "\n",
    "print(\"Đã chuyển xong các file.\")\n",
    "\n",
    "\n"
   ]
  },
  {
   "cell_type": "code",
   "execution_count": null,
   "metadata": {},
   "outputs": [],
   "source": [
    "%cd /mnt/d/RESEARCH/BarlowTwins-Semi\n",
    "%mkdir data/polypgen\n",
    "print(os.getcwd())\n",
    "!mv download/polypgen/PolypGen2021_MultiCenterData_v3/images data/polypgen\n",
    "!mv download/polypgen/PolypGen2021_MultiCenterData_v3/masks data/polypgen\n",
    "\n",
    "#!rm -r download/polypgen\n"
   ]
  },
  {
   "cell_type": "code",
   "execution_count": 1,
   "metadata": {},
   "outputs": [
    {
     "name": "stdout",
     "output_type": "stream",
     "text": [
      "/mnt/d/RESEARCH/BarlowTwins-Semi\n",
      "Number of images: 3761, Number of masks: 3761\n",
      "Processing completed.\n"
     ]
    }
   ],
   "source": [
    "from Data_Processing.process_resize import clean_and_rename, process_polypgen\n",
    "#clean_and_rename('data/polypgen')\n",
    "%cd /mnt/d/RESEARCH/BarlowTwins-Semi\n",
    "\n",
    "process_polypgen(origin_folder='data/polypgen', processed_folder='processed_data/polypgen')"
   ]
  },
  {
   "cell_type": "code",
   "execution_count": 1,
   "metadata": {},
   "outputs": [
    {
     "name": "stdout",
     "output_type": "stream",
     "text": [
      "Data split into 5 numerically sorted folds and saved to fold1.txt, fold2.txt, ... fold5.txt.\n"
     ]
    }
   ],
   "source": [
    "from Data_Processing.process_resize import split_into_folds\n",
    "\n",
    "split_into_folds('processed_data/polypgen')"
   ]
  },
  {
   "cell_type": "code",
   "execution_count": 2,
   "metadata": {},
   "outputs": [
    {
     "data": {
      "text/plain": [
       "'12.4'"
      ]
     },
     "execution_count": 2,
     "metadata": {},
     "output_type": "execute_result"
    }
   ],
   "source": [
    "import torch\n",
    "\n",
    "torch.version.cuda"
   ]
  }
 ],
 "metadata": {
  "kernelspec": {
   "display_name": "torch_env",
   "language": "python",
   "name": "python3"
  },
  "language_info": {
   "codemirror_mode": {
    "name": "ipython",
    "version": 3
   },
   "file_extension": ".py",
   "mimetype": "text/x-python",
   "name": "python",
   "nbconvert_exporter": "python",
   "pygments_lexer": "ipython3",
   "version": "3.12.4"
  }
 },
 "nbformat": 4,
 "nbformat_minor": 2
}
